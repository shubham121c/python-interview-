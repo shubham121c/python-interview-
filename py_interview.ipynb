{
  "nbformat": 4,
  "nbformat_minor": 0,
  "metadata": {
    "colab": {
      "provenance": []
    },
    "kernelspec": {
      "name": "python3",
      "display_name": "Python 3"
    },
    "language_info": {
      "name": "python"
    }
  },
  "cells": [
    {
      "cell_type": "code",
      "execution_count": null,
      "metadata": {
        "colab": {
          "base_uri": "https://localhost:8080/"
        },
        "id": "qUpbWHNEsyjQ",
        "outputId": "7c91658f-fb48-407f-fe4d-bc05f33af924"
      },
      "outputs": [
        {
          "output_type": "stream",
          "name": "stdout",
          "text": [
            "1000\n",
            "1\n"
          ]
        }
      ],
      "source": [
        "a=input()\n",
        "su=int(a)\n",
        "while (su>=10):\n",
        "  b=[]\n",
        "  for i in a:\n",
        "    b.append(int(i))\n",
        "  su=sum(b)\n",
        "  a=str(su)\n",
        "\n",
        "print(su)"
      ]
    },
    {
      "cell_type": "code",
      "source": [],
      "metadata": {
        "id": "WX2xhTkoxiEv"
      },
      "execution_count": null,
      "outputs": []
    },
    {
      "cell_type": "code",
      "source": [
        "def sum_to_single_digit(num):\n",
        "\n",
        "    num_str = str(num)\n",
        "    \n",
        "    while len(num_str) > 1:\n",
        "        num_sum = sum(int(digit) for digit in num_str)\n",
        "        \n",
        "        num_str = str(num_sum)\n",
        "    \n",
        "    return int(num_str)\n",
        "a = int(input())\n",
        "sum_to_single_digit(a)"
      ],
      "metadata": {
        "colab": {
          "base_uri": "https://localhost:8080/"
        },
        "id": "W-u7wJcMwAHh",
        "outputId": "1b5b0dd7-0a08-4608-d5f9-284a1ebe6ee2"
      },
      "execution_count": null,
      "outputs": [
        {
          "name": "stdout",
          "output_type": "stream",
          "text": [
            "12345\n"
          ]
        },
        {
          "output_type": "execute_result",
          "data": {
            "text/plain": [
              "6"
            ]
          },
          "metadata": {},
          "execution_count": 13
        }
      ]
    },
    {
      "cell_type": "code",
      "source": [
        "def summ(a,b):\n",
        "  s=a+b\n",
        "  return s\n",
        "summ(10,9)"
      ],
      "metadata": {
        "colab": {
          "base_uri": "https://localhost:8080/"
        },
        "id": "1CjKrFtEjS6g",
        "outputId": "69787b36-ea26-4d56-85e4-4d7a96d7ebcc"
      },
      "execution_count": null,
      "outputs": [
        {
          "output_type": "execute_result",
          "data": {
            "text/plain": [
              "19"
            ]
          },
          "metadata": {},
          "execution_count": 1
        }
      ]
    },
    {
      "cell_type": "code",
      "source": [
        "x=lambda a, b: a+b\n",
        "x(3,5)"
      ],
      "metadata": {
        "colab": {
          "base_uri": "https://localhost:8080/"
        },
        "id": "HR6ZDKNtjqO-",
        "outputId": "0a6a114c-1509-487f-e29f-2d0ae2078afe"
      },
      "execution_count": null,
      "outputs": [
        {
          "output_type": "execute_result",
          "data": {
            "text/plain": [
              "8"
            ]
          },
          "metadata": {},
          "execution_count": 2
        }
      ]
    },
    {
      "cell_type": "code",
      "source": [
        "#counting duplicates in number\n",
        "def count_dup(l):\n",
        "  d={}\n",
        "  for i in l:\n",
        "      #l1.append(l.count(i))\n",
        "      d[i]=l.count(i)\n",
        "  return (d)\n",
        "l=input()\n",
        "count_dup(l)\n"
      ],
      "metadata": {
        "colab": {
          "base_uri": "https://localhost:8080/"
        },
        "id": "2O6vPtlMohZe",
        "outputId": "d1f41ba3-622f-4edd-e05d-3dbd1f21c272"
      },
      "execution_count": null,
      "outputs": [
        {
          "name": "stdout",
          "output_type": "stream",
          "text": [
            "22323121\n"
          ]
        },
        {
          "output_type": "execute_result",
          "data": {
            "text/plain": [
              "{'2': 4, '3': 2, '1': 2}"
            ]
          },
          "metadata": {},
          "execution_count": 15
        }
      ]
    },
    {
      "cell_type": "code",
      "source": [
        "#rotate a given array by given steps\n",
        "def rotate_array(A, K):\n",
        "    N = len(A)\n",
        "    # calculate the effective rotation by taking mod N\n",
        "    K = K % N\n",
        "    # if K is 0, array doesn't need to be rotated\n",
        "    if K == 0:\n",
        "        return A\n",
        "    # reverse the first N-K elements\n",
        "    A[:N-K] = reversed(A[:N-K])\n",
        "    print('A[:N-K]', A)\n",
        "    # reverse the last K elements\n",
        "    A[N-K:] = reversed(A[N-K:])\n",
        "    print('A[N-K:]', A)\n",
        "    # reverse the entire array\n",
        "    A[:] = reversed(A)\n",
        "    return A\n",
        "\n",
        "# example usage\n",
        "A = [1, 2, 3, 4, 5]\n",
        "K = 2\n",
        "rotated = rotate_array(A, K)\n",
        "print(rotated)  # prints [4, 5, 1, 2, 3]\n"
      ],
      "metadata": {
        "colab": {
          "base_uri": "https://localhost:8080/"
        },
        "id": "JWJf87jwJQ9B",
        "outputId": "c8a682b6-2ccc-41ac-98d8-c455541975a2"
      },
      "execution_count": null,
      "outputs": [
        {
          "output_type": "stream",
          "name": "stdout",
          "text": [
            "A[:N-K] [3, 2, 1, 4, 5]\n",
            "A[N-K:] [3, 2, 1, 5, 4]\n",
            "[4, 5, 1, 2, 3]\n"
          ]
        }
      ]
    },
    {
      "cell_type": "code",
      "source": [
        "a=[1,2,3,4,5]\n",
        "k=3\n",
        "n=5\n",
        "y= reversed(a[:k])\n",
        "x=a[k:n]\n"
      ],
      "metadata": {
        "colab": {
          "base_uri": "https://localhost:8080/"
        },
        "id": "7s_GMtVFJud8",
        "outputId": "e13ac5c1-a75f-43dc-baba-80b9a68196ea"
      },
      "execution_count": null,
      "outputs": [
        {
          "output_type": "execute_result",
          "data": {
            "text/plain": [
              "<list_reverseiterator at 0x7f491c87b0d0>"
            ]
          },
          "metadata": {},
          "execution_count": 9
        }
      ]
    },
    {
      "cell_type": "code",
      "source": [
        "#factorization using recursive function\n",
        "def fact(n):\n",
        "  if n==1:\n",
        "    return 1\n",
        "  else:\n",
        "    return n*fact(n-1)\n",
        "n=int(input())\n",
        "print(fact(n))"
      ],
      "metadata": {
        "colab": {
          "base_uri": "https://localhost:8080/"
        },
        "id": "7WgmPlgNA8Yn",
        "outputId": "893862a0-7193-4154-9b2e-223ed1b5f38a"
      },
      "execution_count": null,
      "outputs": [
        {
          "output_type": "stream",
          "name": "stdout",
          "text": [
            "5\n",
            "120\n"
          ]
        }
      ]
    },
    {
      "cell_type": "code",
      "source": [
        "#reveraing a number\n",
        "n=int(input())\n",
        "r=0\n",
        "while n!=0:\n",
        "   r = r*10 + n%10\n",
        "   n = (n//10)\n",
        "r\n"
      ],
      "metadata": {
        "colab": {
          "base_uri": "https://localhost:8080/"
        },
        "id": "jRG-LHBLs3qz",
        "outputId": "3d28ad33-0dda-486a-ecf6-9761c103c23b"
      },
      "execution_count": null,
      "outputs": [
        {
          "name": "stdout",
          "output_type": "stream",
          "text": [
            "2324\n"
          ]
        },
        {
          "output_type": "execute_result",
          "data": {
            "text/plain": [
              "4232"
            ]
          },
          "metadata": {},
          "execution_count": 3
        }
      ]
    },
    {
      "cell_type": "code",
      "source": [
        "#fibonacci\n",
        "n=7\n",
        "n1=0\n",
        "n2=1\n",
        "c=0\n",
        "print(n1)\n",
        "while c<n:\n",
        " \n",
        "  \n",
        "  nth=n1+n2\n",
        "  n1=n2\n",
        "  n2=nth\n",
        "  c=c+1\n",
        "  print(nth)\n",
        "print (\"----------------------------------\")\n",
        "\n"
      ],
      "metadata": {
        "colab": {
          "base_uri": "https://localhost:8080/"
        },
        "id": "QeG1cSpuPOBk",
        "outputId": "2a4f9c8e-9401-4a2c-f602-391c942069dc"
      },
      "execution_count": null,
      "outputs": [
        {
          "output_type": "stream",
          "name": "stdout",
          "text": [
            "0\n",
            "1\n",
            "2\n",
            "3\n",
            "5\n",
            "8\n",
            "13\n",
            "21\n",
            "----------------------------------\n"
          ]
        }
      ]
    },
    {
      "cell_type": "code",
      "source": [
        "# prime numbers\n",
        "import math\n",
        "s=5\n",
        "n=20\n",
        "for num in range(s, n + 1):\n",
        "   # all prime numbers are greater than 1\n",
        "   if num > 1:\n",
        "       for i in range(2, int(math.sqrt(num))+1):\n",
        "           if (num % i) == 0:\n",
        "               break\n",
        "       else:\n",
        "           print(num)"
      ],
      "metadata": {
        "colab": {
          "base_uri": "https://localhost:8080/"
        },
        "id": "rTpLAdo6R8Qm",
        "outputId": "c80794ca-a2cb-4448-9b17-7eb718be8bbc"
      },
      "execution_count": null,
      "outputs": [
        {
          "output_type": "stream",
          "name": "stdout",
          "text": [
            "5\n",
            "7\n",
            "11\n",
            "13\n",
            "17\n",
            "19\n"
          ]
        }
      ]
    },
    {
      "cell_type": "code",
      "source": [
        "x = \"Hello, world!\"\n",
        "print(x[7:])\n",
        "\n"
      ],
      "metadata": {
        "colab": {
          "base_uri": "https://localhost:8080/"
        },
        "id": "OxcDec9dWFyO",
        "outputId": "6d3f5ee6-b740-42c6-f5d4-27a5553841c3"
      },
      "execution_count": null,
      "outputs": [
        {
          "output_type": "stream",
          "name": "stdout",
          "text": [
            "world!\n"
          ]
        }
      ]
    },
    {
      "cell_type": "code",
      "source": [
        "x = [1, 2, 3]\n",
        "y = x\n",
        "y += [4]\n",
        "print(x)\n"
      ],
      "metadata": {
        "colab": {
          "base_uri": "https://localhost:8080/"
        },
        "id": "vVVQh9IdWOI8",
        "outputId": "161fb0ad-03b1-479b-ddb9-d4fe0ae15b8b"
      },
      "execution_count": null,
      "outputs": [
        {
          "output_type": "stream",
          "name": "stdout",
          "text": [
            "[1, 2, 3, 4]\n"
          ]
        }
      ]
    },
    {
      "cell_type": "code",
      "source": [
        "def func(x):\n",
        "    x += 5\n",
        "    return x\n",
        "\n",
        "x = 10\n",
        "x = func(x)\n",
        "print(x)"
      ],
      "metadata": {
        "colab": {
          "base_uri": "https://localhost:8080/"
        },
        "id": "2LA-QUwUWXM_",
        "outputId": "2331259e-7031-4120-e655-0d8f993c6a68"
      },
      "execution_count": null,
      "outputs": [
        {
          "output_type": "stream",
          "name": "stdout",
          "text": [
            "15\n"
          ]
        }
      ]
    },
    {
      "cell_type": "code",
      "source": [
        "x = [1, 2, 3]\n",
        "y = x\n",
        "y[0] = 0\n",
        "print(x)"
      ],
      "metadata": {
        "colab": {
          "base_uri": "https://localhost:8080/"
        },
        "id": "C8JmLAxLWZ2c",
        "outputId": "4b17d360-32a5-4527-d278-daf4e3fc2d3c"
      },
      "execution_count": null,
      "outputs": [
        {
          "output_type": "stream",
          "name": "stdout",
          "text": [
            "[0, 2, 3]\n"
          ]
        }
      ]
    },
    {
      "cell_type": "code",
      "source": [
        "x = 1\n",
        "if x == 1:\n",
        "    x = \"one\"\n",
        "elif x == 2:\n",
        "    x = \"two\"\n",
        "else:\n",
        "    x = \"unknown\"\n",
        "print(x)"
      ],
      "metadata": {
        "colab": {
          "base_uri": "https://localhost:8080/"
        },
        "id": "2ofmJgzQWkIx",
        "outputId": "83fee82d-0deb-46d9-ba5b-be31406df776"
      },
      "execution_count": null,
      "outputs": [
        {
          "output_type": "stream",
          "name": "stdout",
          "text": [
            "one\n"
          ]
        }
      ]
    },
    {
      "cell_type": "code",
      "source": [
        "x = [1, 2, 3]\n",
        "y = x.copy()\n",
        "y[0] = 0\n",
        "print(x)"
      ],
      "metadata": {
        "id": "q1zh_wyZWtqX",
        "outputId": "747201a0-1c6e-49ce-c9ce-ceaa279a94c5",
        "colab": {
          "base_uri": "https://localhost:8080/"
        }
      },
      "execution_count": null,
      "outputs": [
        {
          "output_type": "stream",
          "name": "stdout",
          "text": [
            "[1, 2, 3]\n"
          ]
        }
      ]
    }
  ]
}